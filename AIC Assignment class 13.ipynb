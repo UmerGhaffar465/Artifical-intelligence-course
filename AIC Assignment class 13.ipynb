{
 "cells": [
  {
   "cell_type": "markdown",
   "id": "8a0c09b3",
   "metadata": {},
   "source": [
    "# Task 1"
   ]
  },
  {
   "cell_type": "code",
   "execution_count": 2,
   "id": "a72fd02d",
   "metadata": {},
   "outputs": [],
   "source": [
    "class Father():\n",
    "    def __init__(self,name):\n",
    "        self.name = name\n",
    "        self.height = None\n",
    "        self.skill = None\n",
    "        \n",
    "    def showSkill(self):\n",
    "        return f\"I can teach {self.skill}\"\n",
    "    \n",
    "    def showAge(self):\n",
    "        return self.age \n",
    "f1 = Father(\"father1\")"
   ]
  },
  {
   "cell_type": "code",
   "execution_count": 3,
   "id": "b50ed951",
   "metadata": {},
   "outputs": [],
   "source": [
    "class Mother():\n",
    "    def __init__(this,name):\n",
    "        this.name = name\n",
    "        this.speak = None\n",
    "        this.write = None\n",
    "        this.cook = None\n",
    "        \n",
    "    def showCook(this):\n",
    "        return f\"I can cook {this.cook}\"\n",
    "    \n",
    "    def showListen(this):\n",
    "        return f\"I can write {this.write}\"\n",
    "    \n",
    "m1 = Mother('mother1')"
   ]
  },
  {
   "cell_type": "code",
   "execution_count": 5,
   "id": "4249b7ac",
   "metadata": {},
   "outputs": [],
   "source": [
    "# create chil class from father and mother\n",
    "class Child(Father, Mother):\n",
    "    def __init__(self,name):\n",
    "        Father.__init__(self, name)\n",
    "        Mother.__init__(self, name)\n",
    "        self.address = None\n",
    "        self.education = None\n",
    "        \n",
    "c1 = Child('child')"
   ]
  },
  {
   "cell_type": "code",
   "execution_count": 6,
   "id": "b2c004d7",
   "metadata": {},
   "outputs": [
    {
     "name": "stdout",
     "output_type": "stream",
     "text": [
      "['height', 'name', 'showAge', 'showSkill', 'skill']\n"
     ]
    }
   ],
   "source": [
    "print(list(i for i in dir(f1) if \"__\" not in i))"
   ]
  },
  {
   "cell_type": "code",
   "execution_count": 7,
   "id": "a19297b6",
   "metadata": {},
   "outputs": [
    {
     "name": "stdout",
     "output_type": "stream",
     "text": [
      "['cook', 'name', 'showCook', 'showListen', 'speak', 'write']\n"
     ]
    }
   ],
   "source": [
    "print(list(i for i in dir(m1) if \"__\" not in i))"
   ]
  },
  {
   "cell_type": "code",
   "execution_count": 8,
   "id": "424f9a27",
   "metadata": {},
   "outputs": [
    {
     "name": "stdout",
     "output_type": "stream",
     "text": [
      "['address', 'cook', 'education', 'height', 'name', 'showAge', 'showCook', 'showListen', 'showSkill', 'skill', 'speak', 'write']\n"
     ]
    }
   ],
   "source": [
    "print(list(i for i in dir(c1) if \"__\" not in i))"
   ]
  },
  {
   "cell_type": "markdown",
   "id": "746fae0e",
   "metadata": {},
   "source": [
    "# Task 2"
   ]
  },
  {
   "cell_type": "code",
   "execution_count": 9,
   "id": "c5d14f6d",
   "metadata": {},
   "outputs": [],
   "source": [
    "# Create a class\n",
    "\n",
    "class Journal():\n",
    "    def __init__(self, price):\n",
    "        self.price = price\n",
    "        \n",
    "   # Operator Overloading\n",
    "    def __add__(self, other):\n",
    "        return self.price + other.price "
   ]
  },
  {
   "cell_type": "code",
   "execution_count": 13,
   "id": "b9c65f35",
   "metadata": {},
   "outputs": [],
   "source": [
    "# Create objects from class\n",
    "\n",
    "Journal1 = Journal(500)\n",
    "Journal2 = Journal(751)"
   ]
  },
  {
   "cell_type": "code",
   "execution_count": 14,
   "id": "1a28c968",
   "metadata": {},
   "outputs": [
    {
     "name": "stdout",
     "output_type": "stream",
     "text": [
      "1251\n"
     ]
    }
   ],
   "source": [
    "print(Journal1.price + Journal2.price)"
   ]
  },
  {
   "cell_type": "code",
   "execution_count": 15,
   "id": "299a6a4a",
   "metadata": {},
   "outputs": [
    {
     "name": "stdout",
     "output_type": "stream",
     "text": [
      "1251\n"
     ]
    }
   ],
   "source": [
    "print(Journal1 + Journal2) "
   ]
  },
  {
   "cell_type": "code",
   "execution_count": null,
   "id": "ac92d086",
   "metadata": {},
   "outputs": [],
   "source": []
  }
 ],
 "metadata": {
  "kernelspec": {
   "display_name": "Python 3 (ipykernel)",
   "language": "python",
   "name": "python3"
  },
  "language_info": {
   "codemirror_mode": {
    "name": "ipython",
    "version": 3
   },
   "file_extension": ".py",
   "mimetype": "text/x-python",
   "name": "python",
   "nbconvert_exporter": "python",
   "pygments_lexer": "ipython3",
   "version": "3.9.12"
  }
 },
 "nbformat": 4,
 "nbformat_minor": 5
}
